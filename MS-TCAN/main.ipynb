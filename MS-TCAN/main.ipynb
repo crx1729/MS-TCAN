{
 "cells": [
  {
   "cell_type": "code",
   "execution_count": 1,
   "id": "7565d81f",
   "metadata": {},
   "outputs": [],
   "source": [
    "import os\n",
    "import torch\n",
    "from train import *\n",
    "import argparse\n",
    "\n",
    "parser = argparse.ArgumentParser()\n",
    "parser.add_argument('--dataset', default='ml-1m', type=str)\n",
    "parser.add_argument('--batch_size', default=128, type=int)\n",
    "parser.add_argument('--lr', default=0.001, type=float)\n",
    "parser.add_argument('--max_len', default=200, type=int)\n",
    "parser.add_argument('--dim', default=64, type=int)\n",
    "parser.add_argument('--num_blocks', default=5, type=int)\n",
    "parser.add_argument('--num_stack', default=1, type=int)\n",
    "parser.add_argument('--dilation', default=[1,2], type=list, help='len(dilation) must equal to num_blocks')\n",
    "parser.add_argument('--kernal_size', default=7, type=int)\n",
    "parser.add_argument('--num_epochs', default=300, type=int)\n",
    "parser.add_argument('--early_stop', default=20, type=int)\n",
    "parser.add_argument('--ks', default=[10, 20], type=list)\n",
    "parser.add_argument('--num_evaluate', default=999, type=int)\n",
    "parser.add_argument('--dropout_rate', default=0.3, type=float)\n",
    "parser.add_argument('--l2_emb', default=0.0, type=float)\n",
    "parser.add_argument('--device', default='cuda', type=str)\n",
    "args = parser.parse_args([])\n",
    "args.dilation = [int(2**i) for i in range(args.num_blocks)]"
   ]
  },
  {
   "cell_type": "code",
   "execution_count": null,
   "id": "541c3553",
   "metadata": {},
   "outputs": [
    {
     "name": "stdout",
     "output_type": "stream",
     "text": [
      "Dataset built\n",
      "Epoch 1: loss=0.9830, time_cost=16.4708\n",
      "Epoch 2: loss=0.7864, time_cost=19.6111\n",
      "Epoch 3: loss=0.7504, time_cost=18.7739\n",
      "Epoch 4: loss=0.7016, time_cost=19.2831\n",
      "Epoch 5: loss=0.6406, time_cost=18.7832\n",
      "Epoch 6: loss=0.6007, time_cost=19.6163\n",
      "Epoch 7: loss=0.5706, time_cost=19.6053\n",
      "Epoch 8: loss=0.5467, time_cost=19.7850\n",
      "Epoch 9: loss=0.5286, time_cost=19.7952\n",
      "Epoch 10: loss=0.5120, time_cost=20.2907\n",
      "Epoch 11: loss=0.4973, time_cost=19.6154\n",
      "Epoch 12: loss=0.4848, time_cost=19.6068\n",
      "Epoch 13: loss=0.4728, time_cost=20.2887\n",
      "Epoch 14: loss=0.4638, time_cost=19.2834\n",
      "Epoch 15: loss=0.4542, time_cost=19.4404\n",
      "Epoch 16: loss=0.4462, time_cost=19.2706\n",
      "Epoch 17: loss=0.4396, time_cost=19.7811\n",
      "Epoch 18: loss=0.4340, time_cost=19.7812\n",
      "Epoch 19: loss=0.4281, time_cost=19.1101\n",
      "Epoch 20: loss=0.4238, time_cost=19.6166\n",
      "Evaluating............................................................evaluation time cost: 38.6872\n",
      "               HT@10     HT@20   NDCG@10   NDCG@20    MRR@10    MRR@20\n",
      "max_seq32   0.445349  0.616279  0.266906  0.310308  0.212069  0.224083\n",
      "max_seq64   0.444770  0.601317  0.258054  0.297517  0.201050  0.211827\n",
      "max_seq128  0.399298  0.549474  0.226066  0.264168  0.173297  0.183824\n",
      "max_seq256  0.356784  0.494975  0.199932  0.234811  0.152229  0.161770\n",
      "average     0.399338  0.549172  0.228788  0.266678  0.176769  0.187174\n"
     ]
    }
   ],
   "source": [
    "data_file = './dataset'\n",
    "train(data_file, args)"
   ]
  }
 ],
 "metadata": {
  "kernelspec": {
   "display_name": "Python 3",
   "language": "python",
   "name": "python3"
  },
  "language_info": {
   "codemirror_mode": {
    "name": "ipython",
    "version": 3
   },
   "file_extension": ".py",
   "mimetype": "text/x-python",
   "name": "python",
   "nbconvert_exporter": "python",
   "pygments_lexer": "ipython3",
   "version": "3.6.13"
  }
 },
 "nbformat": 4,
 "nbformat_minor": 5
}
